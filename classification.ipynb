{
 "cells": [
  {
   "cell_type": "code",
   "execution_count": 1,
   "id": "cc7e2440-0cc7-457e-8fd1-cf89b1e743be",
   "metadata": {},
   "outputs": [],
   "source": [
    "import os\n",
    "import pandas as pd\n",
    "from PIL import Image\n",
    "import torch\n",
    "import torch.nn as nn\n",
    "from torch.utils.data import Dataset, DataLoader\n",
    "from torchvision import transforms, models\n",
    "from sklearn.model_selection import train_test_split\n",
    "from tqdm import tqdm"
   ]
  },
  {
   "cell_type": "code",
   "execution_count": 2,
   "id": "0aed7351-e261-48cd-a0c7-6992a0957bbd",
   "metadata": {},
   "outputs": [
    {
     "name": "stdout",
     "output_type": "stream",
     "text": [
      "클래스 수: 3\n",
      "Train: 209642, Val: 26204\n"
     ]
    }
   ],
   "source": [
    "import os\n",
    "import pandas as pd\n",
    "\n",
    "CSV_PATH = \"Metadata.csv\"\n",
    "TRAIN_IMG_DIR = \"dataset/images\"\n",
    "VAL_IMG_DIR = \"validation/images\"\n",
    "\n",
    "df = pd.read_csv(CSV_PATH, encoding='cp949')\n",
    "df = df[df[\"road_grade\"].notnull()]\n",
    "df['road_grade'] = df['road_grade'].astype(int)\n",
    "\n",
    "train_df = df[df['FileName'].apply(lambda x: os.path.exists(os.path.join(TRAIN_IMG_DIR, x)))]\n",
    "train_df = train_df.copy()\n",
    "train_df['full_path'] = train_df['FileName'].apply(lambda x: os.path.join(TRAIN_IMG_DIR, x))\n",
    "\n",
    "val_df = df[df['FileName'].apply(lambda x: os.path.exists(os.path.join(VAL_IMG_DIR, x)))]\n",
    "val_df = val_df.copy()\n",
    "val_df['full_path'] = val_df['FileName'].apply(lambda x: os.path.join(VAL_IMG_DIR, x))\n",
    "\n",
    "NUM_CLASSES = df['road_grade'].nunique()\n",
    "print(f\"클래스 수: {NUM_CLASSES}\")\n",
    "print(f\"Train: {len(train_df)}, Val: {len(val_df)}\")"
   ]
  },
  {
   "cell_type": "code",
   "execution_count": 3,
   "id": "625f7a74-0640-417f-844d-e105b00326f1",
   "metadata": {},
   "outputs": [],
   "source": [
    "from torch.utils.data import Dataset\n",
    "from PIL import Image\n",
    "\n",
    "class RoadDataset(Dataset):\n",
    "    def __init__(self, dataframe, transform=None):\n",
    "        self.df = dataframe.reset_index(drop=True)\n",
    "        self.transform = transform\n",
    "\n",
    "    def __len__(self):\n",
    "        return len(self.df)\n",
    "\n",
    "    def __getitem__(self, idx):\n",
    "        image = Image.open(self.df.loc[idx, 'full_path']).convert(\"RGB\")\n",
    "        label = int(self.df.loc[idx, 'road_grade'])\n",
    "\n",
    "        if self.transform:\n",
    "            image = self.transform(image)\n",
    "        return image, label"
   ]
  },
  {
   "cell_type": "code",
   "execution_count": 4,
   "id": "ac4bc176-ed2a-492c-8b2b-7d0dec673dbd",
   "metadata": {},
   "outputs": [],
   "source": [
    "from torch.utils.data import DataLoader\n",
    "from torchvision import transforms\n",
    "\n",
    "train_tf = transforms.Compose([\n",
    "    transforms.RandomResizedCrop(384, scale=(0.6, 1.0)),\n",
    "    transforms.RandomHorizontalFlip(),\n",
    "    transforms.ColorJitter(brightness=0.2, contrast=0.2, saturation=0.2),\n",
    "    transforms.ToTensor(),\n",
    "    transforms.Normalize([0.485,0.456,0.406], [0.229,0.224,0.225]),\n",
    "])\n",
    "val_tf = transforms.Compose([\n",
    "    transforms.Resize(420), \n",
    "    transforms.CenterCrop(384),\n",
    "    transforms.ToTensor(),\n",
    "    transforms.Normalize([0.485,0.456,0.406], [0.229,0.224,0.225]),\n",
    "])\n",
    "\n",
    "train_dataset = RoadDataset(train_df, transform=train_tf)\n",
    "val_dataset   = RoadDataset(val_df,   transform=val_tf)\n",
    "\n",
    "BATCH_SIZE = 16\n",
    "\n",
    "train_loader = DataLoader(train_dataset, batch_size=BATCH_SIZE, shuffle=True,\n",
    "                          num_workers=6, pin_memory=True, persistent_workers=True)\n",
    "val_loader   = DataLoader(val_dataset,   batch_size=BATCH_SIZE, shuffle=False,\n",
    "                          num_workers=6, pin_memory=True, persistent_workers=True)\n"
   ]
  },
  {
   "cell_type": "code",
   "execution_count": 5,
   "id": "4a4ffbb1-59de-49bb-8052-6a5cc193a3df",
   "metadata": {},
   "outputs": [
    {
     "name": "stderr",
     "output_type": "stream",
     "text": [
      "/home/user22313548/venv/lib/python3.12/site-packages/tqdm/auto.py:21: TqdmWarning: IProgress not found. Please update jupyter and ipywidgets. See https://ipywidgets.readthedocs.io/en/stable/user_install.html\n",
      "  from .autonotebook import tqdm as notebook_tqdm\n",
      "/tmp/ipykernel_8687/1093001931.py:27: FutureWarning: `torch.cuda.amp.GradScaler(args...)` is deprecated. Please use `torch.amp.GradScaler('cuda', args...)` instead.\n",
      "  scaler = torch.cuda.amp.GradScaler()\n",
      "Epoch 1 Training:   0%|                                                                       | 0/13103 [00:00<?, ?it/s]/tmp/ipykernel_8687/1093001931.py:50: FutureWarning: `torch.cuda.amp.autocast(args...)` is deprecated. Please use `torch.amp.autocast('cuda', args...)` instead.\n",
      "  with torch.cuda.amp.autocast():\n",
      "Epoch 1 Training: 100%|███████████████████████████████████████████████████████████| 13103/13103 [32:46<00:00,  6.66it/s]\n",
      "Epoch 1 Validation:   0%|                                                                      | 0/1638 [00:00<?, ?it/s]/tmp/ipykernel_8687/1093001931.py:78: FutureWarning: `torch.cuda.amp.autocast(args...)` is deprecated. Please use `torch.amp.autocast('cuda', args...)` instead.\n",
      "  with torch.cuda.amp.autocast():\n",
      "Epoch 1 Validation: 100%|███████████████████████████████████████████████████████████| 1638/1638 [03:32<00:00,  7.72it/s]\n"
     ]
    },
    {
     "name": "stdout",
     "output_type": "stream",
     "text": [
      "[Epoch 1] Loss: 7006.8080, Val Acc: 83.20%\n"
     ]
    },
    {
     "name": "stderr",
     "output_type": "stream",
     "text": [
      "Epoch 2 Training: 100%|███████████████████████████████████████████████████████████| 13103/13103 [45:26<00:00,  4.81it/s]\n",
      "Epoch 2 Validation: 100%|███████████████████████████████████████████████████████████| 1638/1638 [03:49<00:00,  7.13it/s]\n"
     ]
    },
    {
     "name": "stdout",
     "output_type": "stream",
     "text": [
      "[Epoch 2] Loss: 6391.0628, Val Acc: 83.96%\n"
     ]
    },
    {
     "name": "stderr",
     "output_type": "stream",
     "text": [
      "Epoch 3 Training: 100%|███████████████████████████████████████████████████████████| 13103/13103 [31:32<00:00,  6.92it/s]\n",
      "Epoch 3 Validation: 100%|███████████████████████████████████████████████████████████| 1638/1638 [02:53<00:00,  9.45it/s]\n"
     ]
    },
    {
     "name": "stdout",
     "output_type": "stream",
     "text": [
      "[Epoch 3] Loss: 6161.0226, Val Acc: 84.87%\n"
     ]
    },
    {
     "name": "stderr",
     "output_type": "stream",
     "text": [
      "Epoch 4 Training: 100%|███████████████████████████████████████████████████████████| 13103/13103 [31:21<00:00,  6.97it/s]\n",
      "Epoch 4 Validation: 100%|███████████████████████████████████████████████████████████| 1638/1638 [03:00<00:00,  9.05it/s]\n"
     ]
    },
    {
     "name": "stdout",
     "output_type": "stream",
     "text": [
      "[Epoch 4] Loss: 5988.5703, Val Acc: 85.28%\n"
     ]
    },
    {
     "name": "stderr",
     "output_type": "stream",
     "text": [
      "Epoch 5 Training: 100%|███████████████████████████████████████████████████████████| 13103/13103 [31:26<00:00,  6.95it/s]\n",
      "Epoch 5 Validation: 100%|███████████████████████████████████████████████████████████| 1638/1638 [03:01<00:00,  9.04it/s]\n"
     ]
    },
    {
     "name": "stdout",
     "output_type": "stream",
     "text": [
      "[Epoch 5] Loss: 5853.9729, Val Acc: 85.58%\n"
     ]
    },
    {
     "name": "stderr",
     "output_type": "stream",
     "text": [
      "Epoch 6 Training: 100%|███████████████████████████████████████████████████████████| 13103/13103 [31:32<00:00,  6.92it/s]\n",
      "Epoch 6 Validation: 100%|███████████████████████████████████████████████████████████| 1638/1638 [03:05<00:00,  8.84it/s]\n"
     ]
    },
    {
     "name": "stdout",
     "output_type": "stream",
     "text": [
      "[Epoch 6] Loss: 5709.6076, Val Acc: 85.53%\n"
     ]
    },
    {
     "name": "stderr",
     "output_type": "stream",
     "text": [
      "Epoch 7 Training: 100%|███████████████████████████████████████████████████████████| 13103/13103 [31:30<00:00,  6.93it/s]\n",
      "Epoch 7 Validation: 100%|███████████████████████████████████████████████████████████| 1638/1638 [02:59<00:00,  9.15it/s]\n"
     ]
    },
    {
     "name": "stdout",
     "output_type": "stream",
     "text": [
      "[Epoch 7] Loss: 5580.6173, Val Acc: 85.75%\n"
     ]
    },
    {
     "name": "stderr",
     "output_type": "stream",
     "text": [
      "Epoch 8 Training: 100%|███████████████████████████████████████████████████████████| 13103/13103 [31:36<00:00,  6.91it/s]\n",
      "Epoch 8 Validation: 100%|███████████████████████████████████████████████████████████| 1638/1638 [03:25<00:00,  7.98it/s]\n"
     ]
    },
    {
     "name": "stdout",
     "output_type": "stream",
     "text": [
      "[Epoch 8] Loss: 5444.8282, Val Acc: 85.78%\n"
     ]
    },
    {
     "name": "stderr",
     "output_type": "stream",
     "text": [
      "Epoch 9 Training: 100%|███████████████████████████████████████████████████████████| 13103/13103 [31:42<00:00,  6.89it/s]\n",
      "Epoch 9 Validation: 100%|███████████████████████████████████████████████████████████| 1638/1638 [02:54<00:00,  9.40it/s]\n"
     ]
    },
    {
     "name": "stdout",
     "output_type": "stream",
     "text": [
      "[Epoch 9] Loss: 5327.3113, Val Acc: 85.70%\n"
     ]
    },
    {
     "name": "stderr",
     "output_type": "stream",
     "text": [
      "Epoch 10 Training: 100%|██████████████████████████████████████████████████████████| 13103/13103 [31:38<00:00,  6.90it/s]\n",
      "Epoch 10 Validation: 100%|██████████████████████████████████████████████████████████| 1638/1638 [02:52<00:00,  9.50it/s]"
     ]
    },
    {
     "name": "stdout",
     "output_type": "stream",
     "text": [
      "[Epoch 10] Loss: 5268.0545, Val Acc: 85.67%\n"
     ]
    },
    {
     "name": "stderr",
     "output_type": "stream",
     "text": [
      "\n"
     ]
    }
   ],
   "source": [
    "import torch\n",
    "import torch.nn as nn\n",
    "from torchvision.models import resnet18, ResNet18_Weights\n",
    "from tqdm import tqdm\n",
    "from PIL import ImageFile\n",
    "import os\n",
    "os.environ[\"CUDA_LAUNCH_BLOCKING\"] = \"1\"\n",
    "ImageFile.LOAD_TRUNCATED_IMAGES = True\n",
    "\n",
    "device = torch.device(\"cuda\" if torch.cuda.is_available() else \"cpu\")\n",
    "\n",
    "#1차 수정\n",
    "import timm\n",
    "model = timm.create_model('efficientnet_b3', pretrained=True, num_classes=NUM_CLASSES).to(device)\n",
    "criterion = nn.CrossEntropyLoss(label_smoothing=0.05).to(device)\n",
    "optimizer = torch.optim.AdamW(model.parameters(), lr=3e-4, weight_decay=1e-4)\n",
    "EPOCHS = 10\n",
    "scheduler = torch.optim.lr_scheduler.CosineAnnealingLR(optimizer, T_max=EPOCHS)\n",
    "\n",
    "scaler = torch.cuda.amp.GradScaler()\n",
    "\n",
    "best_acc = 0.0\n",
    "\n",
    "# 학습 루프\n",
    "for epoch in range(EPOCHS):\n",
    "    model.train()\n",
    "    total_loss = 0.0\n",
    "    \n",
    "    for images, labels in tqdm(train_loader, desc=f\"Epoch {epoch+1} Training\"):\n",
    "        images, labels = images.to(device), labels.to(device)\n",
    "\n",
    "        optimizer.zero_grad(set_to_none=True)\n",
    "        with torch.cuda.amp.autocast():\n",
    "            outputs = model(images)\n",
    "            loss = criterion(outputs, labels)\n",
    "\n",
    "        scaler.scale(loss).backward()\n",
    "        scaler.step(optimizer)\n",
    "        scaler.update()\n",
    "\n",
    "        total_loss += loss.item()\n",
    "\n",
    "    model.eval()\n",
    "    correct, total = 0, 0\n",
    "    with torch.no_grad():\n",
    "        for images, labels in tqdm(val_loader, desc=f\"Epoch {epoch+1} Validation\"):\n",
    "            images, labels = images.to(device), labels.to(device)\n",
    "            with torch.cuda.amp.autocast():\n",
    "                outputs = model(images)\n",
    "            preds = outputs.argmax(dim=1)\n",
    "            correct += (preds == labels).sum().item()\n",
    "            total += labels.size(0)\n",
    "\n",
    "    acc = correct / total * 100\n",
    "    print(f\"[Epoch {epoch+1}] Loss: {total_loss:.4f}, Val Acc: {acc:.2f}%\")\n",
    "\n",
    "    scheduler.step()\n",
    "    \n",
    "    if acc > best_acc:\n",
    "        best_acc = acc\n",
    "        torch.save(model.state_dict(), \"best_cls.pth\")"
   ]
  },
  {
   "cell_type": "code",
   "execution_count": null,
   "id": "acc6a0b2-f878-4280-aee1-8ef58a70bfba",
   "metadata": {},
   "outputs": [],
   "source": []
  },
  {
   "cell_type": "code",
   "execution_count": null,
   "id": "3c3a71d4-e6d7-4aab-afa3-9260a65494b3",
   "metadata": {},
   "outputs": [],
   "source": []
  }
 ],
 "metadata": {
  "kernelspec": {
   "display_name": "Python 3 (ipykernel)",
   "language": "python",
   "name": "python3"
  },
  "language_info": {
   "codemirror_mode": {
    "name": "ipython",
    "version": 3
   },
   "file_extension": ".py",
   "mimetype": "text/x-python",
   "name": "python",
   "nbconvert_exporter": "python",
   "pygments_lexer": "ipython3",
   "version": "3.12.3"
  }
 },
 "nbformat": 4,
 "nbformat_minor": 5
}
